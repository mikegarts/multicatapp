{
 "cells": [
  {
   "cell_type": "code",
   "execution_count": 1,
   "id": "1ceb3495-4e36-4735-a4e3-9d06ae096313",
   "metadata": {
    "gradient": {
     "editing": false,
     "id": "1ceb3495-4e36-4735-a4e3-9d06ae096313",
     "kernelId": "34b54a0a-0aed-4b5f-b508-a25ef30f9393",
     "source_hidden": false
    }
   },
   "outputs": [],
   "source": [
    "from fastai.vision.all import *\n",
    "from fastai.vision.widgets import *"
   ]
  },
  {
   "cell_type": "code",
   "execution_count": 3,
   "id": "8b4ffad7",
   "metadata": {},
   "outputs": [],
   "source": [
    "def get_x(r): return path/'train'/r['fname']\n",
    "def get_y(r): return r['labels'].split(' ')"
   ]
  },
  {
   "cell_type": "code",
   "execution_count": 14,
   "id": "87e05ea9-ef84-4372-9c50-81508ca02c9e",
   "metadata": {
    "gradient": {
     "editing": false,
     "id": "87e05ea9-ef84-4372-9c50-81508ca02c9e",
     "kernelId": "34b54a0a-0aed-4b5f-b508-a25ef30f9393",
     "source_hidden": false
    }
   },
   "outputs": [
    {
     "data": {
      "application/vnd.jupyter.widget-view+json": {
       "model_id": "c8809b8a10c04df99f7827741deab893",
       "version_major": 2,
       "version_minor": 0
      },
      "text/plain": [
       "VBox(children=(Label(value='Upload an image '), FileUpload(value={}, description='Upload'), Output(), Label(va…"
      ]
     },
     "metadata": {},
     "output_type": "display_data"
    }
   ],
   "source": [
    "path = Path()\n",
    "learn_inf = load_learner(path/'multicat.pkl', cpu=True)\n",
    "learn_inf.metrics = partial(accuracy_multi, thresh=0.1)\n",
    "btn_upload = widgets.FileUpload()\n",
    "out_pl = widgets.Output()\n",
    "lbl_pred = widgets.Label()\n",
    "\n",
    "def on_data_change(change):\n",
    "    lbl_pred.value = ''\n",
    "    img = PILImage.create(btn_upload.data[-1])\n",
    "    out_pl.clear_output()\n",
    "    with out_pl: display(img.to_thumb(128,128))\n",
    "    pred,pred_idx,probs = learn_inf.predict(img)\n",
    "    lbl_pred.value = f'Image contains: {pred} prob {(((probs[pred_idx]*100).round())/100).tolist()}'\n",
    "    \n",
    "btn_upload.observe(on_data_change, names=['data'])\n",
    "\n",
    "display(VBox([widgets.Label('Upload an image '), btn_upload, out_pl, lbl_pred]))\n",
    "\n"
   ]
  },
  {
   "cell_type": "code",
   "execution_count": null,
   "id": "b0333a84",
   "metadata": {
    "gradient": {
     "editing": false,
     "id": "b0333a84",
     "kernelId": "34b54a0a-0aed-4b5f-b508-a25ef30f9393"
    }
   },
   "outputs": [],
   "source": []
  }
 ],
 "metadata": {
  "kernelspec": {
   "display_name": "Python 3 (ipykernel)",
   "language": "python",
   "name": "python3"
  },
  "language_info": {
   "codemirror_mode": {
    "name": "ipython",
    "version": 3
   },
   "file_extension": ".py",
   "mimetype": "text/x-python",
   "name": "python",
   "nbconvert_exporter": "python",
   "pygments_lexer": "ipython3",
   "version": "3.7.11"
  }
 },
 "nbformat": 4,
 "nbformat_minor": 5
}
